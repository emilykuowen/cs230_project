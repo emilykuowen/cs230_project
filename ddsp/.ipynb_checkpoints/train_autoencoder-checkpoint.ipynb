{
 "cells": [
  {
   "cell_type": "markdown",
   "metadata": {
    "id": "NpJd3dlOCStH"
   },
   "source": [
    "<a href=\"https://colab.research.google.com/github/magenta/ddsp/blob/main/ddsp/colab/demos/train_autoencoder.ipynb\" target=\"_parent\"><img src=\"https://colab.research.google.com/assets/colab-badge.svg\" alt=\"Open In Colab\"/></a>"
   ]
  },
  {
   "cell_type": "markdown",
   "metadata": {
    "id": "hMqWDc_m6rUC"
   },
   "source": [
    "\n",
    "##### Copyright 2020 Google LLC.\n",
    "\n",
    "Licensed under the Apache License, Version 2.0 (the \"License\");\n",
    "\n",
    "\n",
    "\n"
   ]
  },
  {
   "cell_type": "code",
   "execution_count": 1,
   "metadata": {
    "id": "VNhgka4UKNjf"
   },
   "outputs": [],
   "source": [
    "# Copyright 2020 Google LLC. All Rights Reserved.\n",
    "#\n",
    "# Licensed under the Apache License, Version 2.0 (the \"License\");\n",
    "# you may not use this file except in compliance with the License.\n",
    "# You may obtain a copy of the License at\n",
    "#\n",
    "#     http://www.apache.org/licenses/LICENSE-2.0\n",
    "#\n",
    "# Unless required by applicable law or agreed to in writing, software\n",
    "# distributed under the License is distributed on an \"AS IS\" BASIS,\n",
    "# WITHOUT WARRANTIES OR CONDITIONS OF ANY KIND, either express or implied.\n",
    "# See the License for the specific language governing permissions and\n",
    "# limitations under the License.\n",
    "# ==============================================================================\n",
    "import os"
   ]
  },
  {
   "cell_type": "markdown",
   "metadata": {
    "id": "SpXo6phTiOQM"
   },
   "source": [
    "# Train a DDSP Autoencoder on GPU\n",
    "\n",
    "This notebook demonstrates how to install the DDSP library and train it for synthesis based on your own data using our command-line scripts. If run inside of Colab, it will automatically use a free Google Cloud GPU.\n",
    "\n",
    "At the end, you'll have a custom-trained checkpoint that you can download to use with the [DDSP Timbre Transfer Colab](https://colab.research.google.com/github/magenta/ddsp/blob/main/ddsp/colab/demos/timbre_transfer.ipynb).\n",
    "\n",
    "<img src=\"https://storage.googleapis.com/ddsp/additive_diagram/ddsp_autoencoder.png\" alt=\"DDSP Autoencoder figure\" width=\"700\">\n"
   ]
  },
  {
   "cell_type": "markdown",
   "metadata": {
    "id": "wXjcauVRB48S"
   },
   "source": [
    "**Note that we prefix bash commands with a `!` inside of Colab, but you would leave them out if running directly in a terminal.**"
   ]
  },
  {
   "cell_type": "markdown",
   "metadata": {
    "id": "Vn7CQ4GQizHy"
   },
   "source": [
    "## Install Dependencies\n",
    "\n",
    "First we install the required dependencies with `pip`."
   ]
  },
  {
   "cell_type": "code",
   "execution_count": 2,
   "metadata": {
    "cellView": "both",
    "id": "VxPuPR0j5Gs7"
   },
   "outputs": [],
   "source": [
    "# !pip install -qU ddsp[data_preparation]==1.6.3\n",
    "\n",
    "# Initialize global path for using google drive. \n",
    "DRIVE_DIR = '../data/train/bass'"
   ]
  },
  {
   "cell_type": "markdown",
   "metadata": {
    "id": "FELlizMtIxCH"
   },
   "source": [
    "## Make directories to save model and data"
   ]
  },
  {
   "cell_type": "code",
   "execution_count": 3,
   "metadata": {
    "id": "Qd22WxEQI3FV"
   },
   "outputs": [],
   "source": [
    "AUDIO_DIR = '../data/tf_audio/bass'\n",
    "AUDIO_FILEPATTERN = AUDIO_DIR + '/*'\n",
    "!mkdir -p $AUDIO_DIR\n",
    "\n",
    "if DRIVE_DIR:\n",
    "  SAVE_DIR = os.path.join(DRIVE_DIR, 'ddsp-solo-instrument')\n",
    "else:\n",
    "  SAVE_DIR = '/content/models/ddsp-solo-instrument'\n",
    "!mkdir -p \"$SAVE_DIR\""
   ]
  },
  {
   "cell_type": "markdown",
   "metadata": {
    "id": "fb4YD8woYD1H"
   },
   "source": [
    "## Prepare Dataset\n"
   ]
  },
  {
   "cell_type": "markdown",
   "metadata": {
    "id": "uNhH7nEbX2db"
   },
   "source": [
    "#### Upload training audio\n",
    "\n",
    "Upload audio files to use for training your model. Uses `DRIVE_DIR` if connected to drive, otherwise prompts local upload."
   ]
  },
  {
   "cell_type": "code",
   "execution_count": 4,
   "metadata": {
    "id": "itVKEzF6m3rY"
   },
   "outputs": [
    {
     "name": "stdout",
     "output_type": "stream",
     "text": [
      "Copying ../data/train/bass/The So So Glos - Emergency.wav to ../data/tf_audio/bass/The_So_So_Glos_-_Emergency.wav\n",
      "Copying ../data/train/bass/Tim Taler - Stalker.wav to ../data/tf_audio/bass/Tim_Taler_-_Stalker.wav\n",
      "Copying ../data/train/bass/Voelund - Comfort Lives In Belief.wav to ../data/tf_audio/bass/Voelund_-_Comfort_Lives_In_Belief.wav\n",
      "Copying ../data/train/bass/James May - Dont Let Go.wav to ../data/tf_audio/bass/James_May_-_Dont_Let_Go.wav\n",
      "Copying ../data/train/bass/Angela Thomas Wade - Milk Cow Blues.wav to ../data/tf_audio/bass/Angela_Thomas_Wade_-_Milk_Cow_Blues.wav\n",
      "Copying ../data/train/bass/Bill Chudziak - Children Of No-one.wav to ../data/tf_audio/bass/Bill_Chudziak_-_Children_Of_No-one.wav\n",
      "Copying ../data/train/bass/ANiMAL - Easy Tiger.wav to ../data/tf_audio/bass/ANiMAL_-_Easy_Tiger.wav\n",
      "Copying ../data/train/bass/BigTroubles - Phantom.wav to ../data/tf_audio/bass/BigTroubles_-_Phantom.wav\n",
      "Copying ../data/train/bass/James May - All Souls Moon.wav to ../data/tf_audio/bass/James_May_-_All_Souls_Moon.wav\n",
      "Copying ../data/train/bass/ANiMAL - Clinic A.wav to ../data/tf_audio/bass/ANiMAL_-_Clinic_A.wav\n",
      "Copying ../data/train/bass/Fergessen - Back From The Start.wav to ../data/tf_audio/bass/Fergessen_-_Back_From_The_Start.wav\n",
      "Copying ../data/train/bass/Hollow Ground - Left Blind.wav to ../data/tf_audio/bass/Hollow_Ground_-_Left_Blind.wav\n",
      "Copying ../data/train/bass/Lushlife - Toynbee Suite.wav to ../data/tf_audio/bass/Lushlife_-_Toynbee_Suite.wav\n",
      "Copying ../data/train/bass/Black Bloc - If You Want Success.wav to ../data/tf_audio/bass/Black_Bloc_-_If_You_Want_Success.wav\n",
      "Copying ../data/train/bass/Dreamers Of The Ghetto - Heavy Love.wav to ../data/tf_audio/bass/Dreamers_Of_The_Ghetto_-_Heavy_Love.wav\n",
      "Copying ../data/train/bass/Traffic Experiment - Once More (With Feeling).wav to ../data/tf_audio/bass/Traffic_Experiment_-_Once_More_(With_Feeling).wav\n",
      "/bin/bash: -c: line 0: syntax error near unexpected token `('\n",
      "/bin/bash: -c: line 0: `cp \"../data/train/bass/Traffic Experiment - Once More (With Feeling).wav\" ../data/tf_audio/bass/Traffic_Experiment_-_Once_More_(With_Feeling).wav'\n",
      "Copying ../data/train/bass/The Districts - Vermont.wav to ../data/tf_audio/bass/The_Districts_-_Vermont.wav\n",
      "Copying ../data/train/bass/Snowmine - Curfews.wav to ../data/tf_audio/bass/Snowmine_-_Curfews.wav\n",
      "Copying ../data/train/bass/Helado Negro - Mitad Del Mundo.wav to ../data/tf_audio/bass/Helado_Negro_-_Mitad_Del_Mundo.wav\n",
      "Copying ../data/train/bass/Actions - Devil's Words.wav to ../data/tf_audio/bass/Actions_-_Devil's_Words.wav\n",
      "/bin/bash: -c: line 0: unexpected EOF while looking for matching `''\n",
      "/bin/bash: -c: line 1: syntax error: unexpected end of file\n",
      "Copying ../data/train/bass/Fergessen - The Wind.wav to ../data/tf_audio/bass/Fergessen_-_The_Wind.wav\n",
      "Copying ../data/train/bass/Music Delta - 80s Rock.wav to ../data/tf_audio/bass/Music_Delta_-_80s_Rock.wav\n",
      "Copying ../data/train/bass/Faces On Film - Waiting For Ga.wav to ../data/tf_audio/bass/Faces_On_Film_-_Waiting_For_Ga.wav\n",
      "Copying ../data/train/bass/Patrick Talbot - Set Me Free.wav to ../data/tf_audio/bass/Patrick_Talbot_-_Set_Me_Free.wav\n",
      "Copying ../data/train/bass/Swinging Steaks - Lost My Way.wav to ../data/tf_audio/bass/Swinging_Steaks_-_Lost_My_Way.wav\n",
      "Copying ../data/train/bass/The Long Wait - Back Home To Blue.wav to ../data/tf_audio/bass/The_Long_Wait_-_Back_Home_To_Blue.wav\n",
      "Copying ../data/train/bass/Clara Berry And Wooldog - Stella.wav to ../data/tf_audio/bass/Clara_Berry_And_Wooldog_-_Stella.wav\n",
      "Copying ../data/train/bass/The Scarlet Brand - Les Fleurs Du Mal.wav to ../data/tf_audio/bass/The_Scarlet_Brand_-_Les_Fleurs_Du_Mal.wav\n",
      "Copying ../data/train/bass/Phre The Eon - Everybody's Falling Apart.wav to ../data/tf_audio/bass/Phre_The_Eon_-_Everybody's_Falling_Apart.wav\n",
      "/bin/bash: -c: line 0: unexpected EOF while looking for matching `''\n",
      "/bin/bash: -c: line 1: syntax error: unexpected end of file\n",
      "Copying ../data/train/bass/A Classic Education - NightOwl.wav to ../data/tf_audio/bass/A_Classic_Education_-_NightOwl.wav\n",
      "Copying ../data/train/bass/Jokers, Jacks & Kings - Sea Of Leaves.wav to ../data/tf_audio/bass/Jokers,_Jacks_&_Kings_-_Sea_Of_Leaves.wav\n",
      "/bin/bash: _Kings_-_Sea_Of_Leaves.wav: command not found\n",
      "Copying ../data/train/bass/Dark Ride - Burning Bridges.wav to ../data/tf_audio/bass/Dark_Ride_-_Burning_Bridges.wav\n",
      "Copying ../data/train/bass/The Wrong'Uns - Rothko.wav to ../data/tf_audio/bass/The_Wrong'Uns_-_Rothko.wav\n",
      "/bin/bash: -c: line 0: unexpected EOF while looking for matching `''\n",
      "/bin/bash: -c: line 1: syntax error: unexpected end of file\n",
      "Copying ../data/train/bass/Drumtracks - Ghost Bitch.wav to ../data/tf_audio/bass/Drumtracks_-_Ghost_Bitch.wav\n",
      "Copying ../data/train/bass/Invisible Familiars - Disturbing Wildlife.wav to ../data/tf_audio/bass/Invisible_Familiars_-_Disturbing_Wildlife.wav\n",
      "Copying ../data/train/bass/AvaLuna - Waterduct.wav to ../data/tf_audio/bass/AvaLuna_-_Waterduct.wav\n",
      "Copying ../data/train/bass/James May - If You Say.wav to ../data/tf_audio/bass/James_May_-_If_You_Say.wav\n",
      "Copying ../data/train/bass/Music Delta - Country1.wav to ../data/tf_audio/bass/Music_Delta_-_Country1.wav\n",
      "Copying ../data/train/bass/Triviul - Dorothy.wav to ../data/tf_audio/bass/Triviul_-_Dorothy.wav\n",
      "Copying ../data/train/bass/Hezekiah Jones - Borrowed Heart.wav to ../data/tf_audio/bass/Hezekiah_Jones_-_Borrowed_Heart.wav\n",
      "Copying ../data/train/bass/Titanium - Haunted Age.wav to ../data/tf_audio/bass/Titanium_-_Haunted_Age.wav\n",
      "Copying ../data/train/bass/Spike Mullings - Mike's Sulking.wav to ../data/tf_audio/bass/Spike_Mullings_-_Mike's_Sulking.wav\n",
      "/bin/bash: -c: line 0: unexpected EOF while looking for matching `''\n",
      "/bin/bash: -c: line 1: syntax error: unexpected end of file\n",
      "Copying ../data/train/bass/Giselle - Moss.wav to ../data/tf_audio/bass/Giselle_-_Moss.wav\n",
      "Copying ../data/train/bass/Meaxic - You Listen.wav to ../data/tf_audio/bass/Meaxic_-_You_Listen.wav\n",
      "Copying ../data/train/bass/Hop Along - Sister Cities.wav to ../data/tf_audio/bass/Hop_Along_-_Sister_Cities.wav\n",
      "Copying ../data/train/bass/Johnny Lokke - Whisper To A Scream.wav to ../data/tf_audio/bass/Johnny_Lokke_-_Whisper_To_A_Scream.wav\n",
      "Copying ../data/train/bass/Port St Willow - Stay Even.wav to ../data/tf_audio/bass/Port_St_Willow_-_Stay_Even.wav\n",
      "Copying ../data/train/bass/Wall Of Death - Femme.wav to ../data/tf_audio/bass/Wall_Of_Death_-_Femme.wav\n",
      "Copying ../data/train/bass/Music Delta - Gospel.wav to ../data/tf_audio/bass/Music_Delta_-_Gospel.wav\n",
      "Copying ../data/train/bass/Jay Menon - Through My Eyes.wav to ../data/tf_audio/bass/Jay_Menon_-_Through_My_Eyes.wav\n",
      "Copying ../data/train/bass/Cnoc An Tursa - Bannockburn.wav to ../data/tf_audio/bass/Cnoc_An_Tursa_-_Bannockburn.wav\n",
      "Copying ../data/train/bass/Music Delta - Britpop.wav to ../data/tf_audio/bass/Music_Delta_-_Britpop.wav\n",
      "Copying ../data/train/bass/Auctioneer - Our Future Faces.wav to ../data/tf_audio/bass/Auctioneer_-_Our_Future_Faces.wav\n",
      "Copying ../data/train/bass/Creepoid - OldTree.wav to ../data/tf_audio/bass/Creepoid_-_OldTree.wav\n",
      "Copying ../data/train/bass/Alexander Ross - Velvet Curtain.wav to ../data/tf_audio/bass/Alexander_Ross_-_Velvet_Curtain.wav\n",
      "Copying ../data/train/bass/Sweet Lights - You Let Me Down.wav to ../data/tf_audio/bass/Sweet_Lights_-_You_Let_Me_Down.wav\n",
      "Copying ../data/train/bass/Atlantis Bound - It Was My Fault For Waiting.wav to ../data/tf_audio/bass/Atlantis_Bound_-_It_Was_My_Fault_For_Waiting.wav\n",
      "Copying ../data/train/bass/Young Griffo - Facade.wav to ../data/tf_audio/bass/Young_Griffo_-_Facade.wav\n",
      "Copying ../data/train/bass/North To Alaska - All The Same.wav to ../data/tf_audio/bass/North_To_Alaska_-_All_The_Same.wav\n",
      "Copying ../data/train/bass/Aimee Norwich - Child.wav to ../data/tf_audio/bass/Aimee_Norwich_-_Child.wav\n",
      "Copying ../data/train/bass/Night Panther - Fire.wav to ../data/tf_audio/bass/Night_Panther_-_Fire.wav\n",
      "Copying ../data/train/bass/Actions - South Of The Water.wav to ../data/tf_audio/bass/Actions_-_South_Of_The_Water.wav\n",
      "Copying ../data/train/bass/Chris Durban - Celebrate.wav to ../data/tf_audio/bass/Chris_Durban_-_Celebrate.wav\n",
      "Copying ../data/train/bass/Flags - 54.wav to ../data/tf_audio/bass/Flags_-_54.wav\n",
      "Copying ../data/train/bass/Leaf - Wicked.wav to ../data/tf_audio/bass/Leaf_-_Wicked.wav\n"
     ]
    },
    {
     "name": "stdout",
     "output_type": "stream",
     "text": [
      "Copying ../data/train/bass/Strand Of Oaks - Spacestation.wav to ../data/tf_audio/bass/Strand_Of_Oaks_-_Spacestation.wav\n",
      "Copying ../data/train/bass/Music Delta - Disco.wav to ../data/tf_audio/bass/Music_Delta_-_Disco.wav\n",
      "Copying ../data/train/bass/Music Delta - Beatles.wav to ../data/tf_audio/bass/Music_Delta_-_Beatles.wav\n",
      "Copying ../data/train/bass/Skelpolu - Together Alone.wav to ../data/tf_audio/bass/Skelpolu_-_Together_Alone.wav\n",
      "Copying ../data/train/bass/Secret Mountains - High Horse.wav to ../data/tf_audio/bass/Secret_Mountains_-_High_Horse.wav\n",
      "Copying ../data/train/bass/Steven Clark - Bounty.wav to ../data/tf_audio/bass/Steven_Clark_-_Bounty.wav\n",
      "Copying ../data/train/bass/Celestial Shore - Die For Us.wav to ../data/tf_audio/bass/Celestial_Shore_-_Die_For_Us.wav\n",
      "Copying ../data/train/bass/Clara Berry And Wooldog - Air Traffic.wav to ../data/tf_audio/bass/Clara_Berry_And_Wooldog_-_Air_Traffic.wav\n",
      "Copying ../data/train/bass/St Vitus - Word Gets Around.wav to ../data/tf_audio/bass/St_Vitus_-_Word_Gets_Around.wav\n",
      "Copying ../data/train/bass/Leaf - Come Around.wav to ../data/tf_audio/bass/Leaf_-_Come_Around.wav\n",
      "Copying ../data/train/bass/Matthew Entwistle - Dont You Ever.wav to ../data/tf_audio/bass/Matthew_Entwistle_-_Dont_You_Ever.wav\n",
      "Copying ../data/train/bass/Remember December - C U Next Time.wav to ../data/tf_audio/bass/Remember_December_-_C_U_Next_Time.wav\n",
      "Copying ../data/train/bass/Music Delta - Grunge.wav to ../data/tf_audio/bass/Music_Delta_-_Grunge.wav\n",
      "Copying ../data/train/bass/Grants - PunchDrunk.wav to ../data/tf_audio/bass/Grants_-_PunchDrunk.wav\n",
      "Copying ../data/train/bass/Young Griffo - Blood To Bone.wav to ../data/tf_audio/bass/Young_Griffo_-_Blood_To_Bone.wav\n"
     ]
    }
   ],
   "source": [
    "import glob\n",
    "import os\n",
    "\n",
    "mp3_files = glob.glob(os.path.join(DRIVE_DIR, '*.mp3'))\n",
    "wav_files = glob.glob(os.path.join(DRIVE_DIR, '*.wav'))\n",
    "audio_files = mp3_files + wav_files\n",
    "\n",
    "for fname in audio_files:\n",
    "  target_name = os.path.join(AUDIO_DIR, \n",
    "                             os.path.basename(fname).replace(' ', '_'))\n",
    "  print('Copying {} to {}'.format(fname, target_name))\n",
    "  !cp \"$fname\" $target_name"
   ]
  },
  {
   "cell_type": "markdown",
   "metadata": {
    "id": "g_XVFoN2YOat"
   },
   "source": [
    "### Preprocess raw audio into TFRecord dataset\n",
    "\n",
    "We need to do some preprocessing on the raw audio you uploaded to get it into the correct format for training. This involves turning the full audio into short (4-second) examples, inferring the fundamental frequency (or \"pitch\") with [CREPE](http://github.com/marl/crepe), and computing the loudness. These features will then be stored in a sharded [TFRecord](https://www.tensorflow.org/tutorials/load_data/tfrecord) file for easier loading. Depending on the amount of input audio, this process usually takes a few minutes.\n",
    "\n",
    "* (Optional) Transfer dataset from drive. If you've already created a dataset, from a previous run, this cell will skip the dataset creation step and copy the dataset from `$DRIVE_DIR/data` "
   ]
  },
  {
   "cell_type": "code",
   "execution_count": 5,
   "metadata": {
    "id": "MsnkAHyHVrCW"
   },
   "outputs": [],
   "source": [
    "import glob\n",
    "import os\n",
    "\n",
    "TRAIN_TFRECORD = 'data/train.tfrecord'\n",
    "TRAIN_TFRECORD_FILEPATTERN = TRAIN_TFRECORD + '*'\n",
    "\n",
    "# Copy dataset from drive if dataset has already been created.\n",
    "drive_data_dir = os.path.join(DRIVE_DIR, 'data') \n",
    "drive_dataset_files = glob.glob(drive_data_dir + '/*')\n",
    "\n",
    "if DRIVE_DIR and len(drive_dataset_files) > 0:\n",
    "  !cp \"$drive_data_dir\"/* data/\n",
    "\n",
    "else:\n",
    "  # Make a new dataset.\n",
    "  if not glob.glob(AUDIO_FILEPATTERN):\n",
    "    raise ValueError('No audio files found. Please use the previous cell to '\n",
    "                    'upload.')\n",
    "\n",
    "  !ddsp_prepare_tfrecord \\\n",
    "    --input_audio_filepatterns=$AUDIO_FILEPATTERN \\\n",
    "    --output_tfrecord_path=$TRAIN_TFRECORD \\\n",
    "    --num_shards=10 \\\n",
    "    --alsologtostderr\n",
    "\n",
    "  # Copy dataset to drive for safe-keeping.\n",
    "  if DRIVE_DIR:\n",
    "    !mkdir \"$drive_data_dir\"/\n",
    "    print('Saving to {}'.format(drive_data_dir))\n",
    "    !cp $TRAIN_TFRECORD_FILEPATTERN \"$drive_data_dir\"/"
   ]
  },
  {
   "cell_type": "markdown",
   "metadata": {
    "id": "nIsq0HrzbOF7"
   },
   "source": [
    "Let's load the dataset in the `ddsp` library and have a look at one of the examples."
   ]
  },
  {
   "cell_type": "code",
   "execution_count": 15,
   "metadata": {
    "id": "dA-FOmRgYdpZ"
   },
   "outputs": [
    {
     "data": {
      "text/plain": [
       "[<matplotlib.lines.Line2D at 0x7fce9214c610>]"
      ]
     },
     "execution_count": 15,
     "metadata": {},
     "output_type": "execute_result"
    },
    {
     "data": {
      "image/png": "[encoded data removed]",
      "text/plain": [
       "<Figure size 1400x400 with 3 Axes>"
      ]
     },
     "metadata": {},
     "output_type": "display_data"
    }
   ],
   "source": [
    "import ddsp.training\n",
    "from matplotlib import pyplot as plt\n",
    "import numpy as np\n",
    "\n",
    "data_provider = ddsp.training.data.TFRecordProvider(TRAIN_TFRECORD_FILEPATTERN)\n",
    "dataset = data_provider.get_dataset(shuffle=False)\n",
    "\n",
    "try:\n",
    "  ex = next(iter(dataset))\n",
    "except StopIteration:\n",
    "  raise ValueError(\n",
    "      'TFRecord contains no examples. Please try re-running the pipeline with '\n",
    "      'different audio file(s).')\n",
    "\n",
    "f, ax = plt.subplots(3, 1, figsize=(14, 4))\n",
    "x = np.linspace(0, 4.0, 1000)\n",
    "ax[0].set_ylabel('loudness_db')\n",
    "ax[0].plot(x, ex['loudness_db'])\n",
    "ax[1].set_ylabel('F0_Hz')\n",
    "ax[1].set_xlabel('seconds')\n",
    "ax[1].plot(x, ex['f0_hz'])\n",
    "ax[2].set_ylabel('F0_confidence')\n",
    "ax[2].set_xlabel('seconds')\n",
    "ax[2].plot(x, ex['f0_confidence'])\n"
   ]
  },
  {
   "cell_type": "markdown",
   "metadata": {
    "id": "9gvXBa7PbuyY"
   },
   "source": [
    "## Train Model\n",
    "\n",
    "We will now train a \"solo instrument\" model. This means the model is conditioned only on the fundamental frequency (f0) and loudness with no instrument ID or latent timbre feature. If you uploaded audio of multiple instruemnts, the neural network you train will attempt to model all timbres, but will likely associate certain timbres with different f0 and loudness conditions. "
   ]
  },
  {
   "cell_type": "markdown",
   "metadata": {
    "id": "YpwQkSIKjEMZ"
   },
   "source": [
    "First, let's start up a [TensorBoard](https://www.tensorflow.org/tensorboard) to monitor our loss as training proceeds. \n",
    "\n",
    "Initially, TensorBoard will report `No dashboards are active for the current data set.`, but once training begins, the dashboards should appear."
   ]
  },
  {
   "cell_type": "code",
   "execution_count": 7,
   "metadata": {
    "id": "u2lx7yJneUXT"
   },
   "outputs": [
    {
     "data": {
      "text/plain": [
       "Reusing TensorBoard on port 6006 (pid 8027), started 0:05:17 ago. (Use '!kill 8027' to kill it.)"
      ]
     },
     "metadata": {},
     "output_type": "display_data"
    },
    {
     "data": {
      "text/html": [
       "\n",
       "      <iframe id=\"tensorboard-frame-2f192ad966bc1a86\" width=\"100%\" height=\"800\" frameborder=\"0\">\n",
       "      </iframe>\n",
       "      <script>\n",
       "        (function() {\n",
       "          const frame = document.getElementById(\"tensorboard-frame-2f192ad966bc1a86\");\n",
       "          const url = new URL(\"/\", window.location);\n",
       "          const port = 6006;\n",
       "          if (port) {\n",
       "            url.port = port;\n",
       "          }\n",
       "          frame.src = url;\n",
       "        })();\n",
       "      </script>\n",
       "    "
      ],
      "text/plain": [
       "<IPython.core.display.HTML object>"
      ]
     },
     "metadata": {},
     "output_type": "display_data"
    }
   ],
   "source": [
    "%reload_ext tensorboard\n",
    "import tensorboard as tb\n",
    "tb.notebook.start('--logdir \"{}\"'.format(SAVE_DIR))"
   ]
  },
  {
   "cell_type": "markdown",
   "metadata": {
    "id": "fT-8Koyvj46w"
   },
   "source": [
    "### We will now begin training. \n",
    "\n",
    "Note that we specify [gin configuration](https://github.com/google/gin-config) files for the both the model architecture ([solo_instrument.gin](TODO)) and the dataset ([tfrecord.gin](TODO)), which are both predefined in the library. You could also create your own. We then override some of the spefic params for `batch_size` (which is defined in in the model gin file) and the tfrecord path (which is defined in the dataset file). \n",
    "\n",
    "### Training Notes:\n",
    "* Models typically perform well when the loss drops to the range of ~4.5-5.0.\n",
    "* Depending on the dataset this can take anywhere from 5k-30k training steps usually.\n",
    "* The default is set to 30k, but you can stop training at any time, and for timbre transfer, it's best to stop before the loss drops too far below ~5.0 to avoid overfitting.\n",
    "* On the colab GPU, this can take from around 3-20 hours. \n",
    "* We **highly recommend** saving checkpoints directly to your drive account as colab will restart naturally after about 12 hours and you may lose all of your checkpoints.\n",
    "* By default, checkpoints will be saved every 300 steps with a maximum of 10 checkpoints (at ~60MB/checkpoint this is ~600MB). Feel free to adjust these numbers depending on the frequency of saves you would like and space on your drive.\n",
    "* If you're restarting a session and `DRIVE_DIR` points a directory that was previously used for training, training should resume at the last checkpoint."
   ]
  },
  {
   "cell_type": "code",
   "execution_count": 18,
   "metadata": {
    "id": "poKO-mZEGYXZ"
   },
   "outputs": [
    {
     "name": "stdout",
     "output_type": "stream",
     "text": [
      "2022-12-06 01:20:36.447449: I tensorflow/core/platform/cpu_feature_guard.cc:193] This TensorFlow binary is optimized with oneAPI Deep Neural Network Library (oneDNN) to use the following CPU instructions in performance-critical operations:  AVX2 FMA\n",
      "To enable them in other operations, rebuild TensorFlow with the appropriate compiler flags.\n",
      "2022-12-06 01:20:37.067713: W tensorflow/compiler/xla/stream_executor/platform/default/dso_loader.cc:64] Could not load dynamic library 'libnvinfer.so.7'; dlerror: libnvinfer.so.7: cannot open shared object file: No such file or directory; LD_LIBRARY_PATH: /opt/amazon/efa/lib:/opt/amazon/openmpi/lib:/usr/local/cuda/efa/lib:/usr/local/cuda/lib:/usr/local/cuda:/usr/local/cuda/lib64:/usr/local/cuda/extras/CUPTI/lib64:/usr/local/cuda/targets/x86_64-linux/lib:/usr/local/lib:/usr/lib:/opt/amazon/efa/lib:/opt/amazon/openmpi/lib:/usr/local/cuda/efa/lib:/usr/local/cuda/lib:/usr/local/cuda:/usr/local/cuda/lib64:/usr/local/cuda/extras/CUPTI/lib64:/usr/local/cuda/targets/x86_64-linux/lib:/usr/local/lib:/usr/lib:\n",
      "2022-12-06 01:20:37.067819: W tensorflow/compiler/xla/stream_executor/platform/default/dso_loader.cc:64] Could not load dynamic library 'libnvinfer_plugin.so.7'; dlerror: libnvinfer_plugin.so.7: cannot open shared object file: No such file or directory; LD_LIBRARY_PATH: /opt/amazon/efa/lib:/opt/amazon/openmpi/lib:/usr/local/cuda/efa/lib:/usr/local/cuda/lib:/usr/local/cuda:/usr/local/cuda/lib64:/usr/local/cuda/extras/CUPTI/lib64:/usr/local/cuda/targets/x86_64-linux/lib:/usr/local/lib:/usr/lib:/opt/amazon/efa/lib:/opt/amazon/openmpi/lib:/usr/local/cuda/efa/lib:/usr/local/cuda/lib:/usr/local/cuda:/usr/local/cuda/lib64:/usr/local/cuda/extras/CUPTI/lib64:/usr/local/cuda/targets/x86_64-linux/lib:/usr/local/lib:/usr/lib:\n",
      "2022-12-06 01:20:37.067841: W tensorflow/compiler/tf2tensorrt/utils/py_utils.cc:38] TF-TRT Warning: Cannot dlopen some TensorRT libraries. If you would like to use Nvidia GPU with TensorRT, please make sure the missing libraries mentioned above are installed properly.\n",
      "/home/ubuntu/.local/lib/python3.8/site-packages/tensorflow_addons/utils/ensure_tf_install.py:53: UserWarning: Tensorflow Addons supports using Python ops for all Tensorflow versions above or equal to 2.8.0 and strictly below 2.11.0 (nightly versions are not supported). \n",
      " The versions of TensorFlow you are currently using is 2.11.0 and is not supported. \n",
      "Some things might work, some things might not.\n",
      "If you were to encounter a bug, do not file an issue.\n",
      "If you want to make sure you're using a tested and supported configuration, either change the TensorFlow version or the TensorFlow Addons's version. \n",
      "You can find the compatibility matrix in TensorFlow Addon's readme:\n",
      "https://github.com/tensorflow/addons\n",
      "  warnings.warn(\n",
      "2022-12-06 01:20:39.791290: I tensorflow/compiler/xla/stream_executor/cuda/cuda_gpu_executor.cc:981] successful NUMA node read from SysFS had negative value (-1), but there must be at least one NUMA node, so returning NUMA node zero\n",
      "2022-12-06 01:20:39.825085: I tensorflow/compiler/xla/stream_executor/cuda/cuda_gpu_executor.cc:981] successful NUMA node read from SysFS had negative value (-1), but there must be at least one NUMA node, so returning NUMA node zero\n",
      "2022-12-06 01:20:39.825838: I tensorflow/compiler/xla/stream_executor/cuda/cuda_gpu_executor.cc:981] successful NUMA node read from SysFS had negative value (-1), but there must be at least one NUMA node, so returning NUMA node zero\n",
      "I1206 01:20:39.826557 140539249887040 ddsp_run.py:182] Restore Dir: ../data/train/bass/ddsp-solo-instrument\n",
      "I1206 01:20:39.826877 140539249887040 ddsp_run.py:183] Save Dir: ../data/train/bass/ddsp-solo-instrument\n",
      "I1206 01:20:39.827035 140539249887040 resource_reader.py:50] system_path_file_exists:optimization/base.gin\n",
      "E1206 01:20:39.827211 140539249887040 resource_reader.py:55] Path not found: optimization/base.gin\n",
      "I1206 01:20:39.829210 140539249887040 resource_reader.py:50] system_path_file_exists:eval/basic.gin\n",
      "E1206 01:20:39.829374 140539249887040 resource_reader.py:55] Path not found: eval/basic.gin\n",
      "I1206 01:20:39.831474 140539249887040 ddsp_run.py:153] Operative config not found in ../data/train/bass/ddsp-solo-instrument\n",
      "I1206 01:20:39.831656 140539249887040 resource_reader.py:50] system_path_file_exists:models/solo_instrument.gin\n",
      "E1206 01:20:39.831787 140539249887040 resource_reader.py:55] Path not found: models/solo_instrument.gin\n",
      "I1206 01:20:39.831996 140539249887040 resource_reader.py:50] system_path_file_exists:models/ae.gin\n",
      "E1206 01:20:39.832127 140539249887040 resource_reader.py:55] Path not found: models/ae.gin\n",
      "I1206 01:20:39.836833 140539249887040 resource_reader.py:50] system_path_file_exists:datasets/tfrecord.gin\n",
      "E1206 01:20:39.836976 140539249887040 resource_reader.py:55] Path not found: datasets/tfrecord.gin\n",
      "I1206 01:20:39.837162 140539249887040 resource_reader.py:50] system_path_file_exists:datasets/base.gin\n",
      "E1206 01:20:39.837290 140539249887040 resource_reader.py:55] Path not found: datasets/base.gin\n",
      "I1206 01:20:39.842918 140539249887040 ddsp_run.py:187] Operative Gin Config:\n",
      "import ddsp\n",
      "import ddsp.training as ddsp2\n",
      "\n",
      "# Macros:\n",
      "# ==============================================================================\n",
      "batch_size = 16\n",
      "evaluators = [@BasicEvaluator]\n",
      "learning_rate = 0.0003\n",
      "\n",
      "# Parameters for Add:\n",
      "# ==============================================================================\n",
      "Add.name = 'add'\n",
      "\n",
      "# Parameters for Autoencoder:\n",
      "# ==============================================================================\n",
      "Autoencoder.decoder = @decoders.RnnFcDecoder()\n",
      "Autoencoder.encoder = None\n",
      "Autoencoder.losses = [@losses.SpectralLoss()]\n",
      "Autoencoder.preprocessor = @preprocessing.F0LoudnessPreprocessor()\n",
      "Autoencoder.processor_group = @processors.ProcessorGroup()\n",
      "\n",
      "# Parameters for evaluate:\n",
      "# ==============================================================================\n",
      "evaluate.batch_size = 32\n",
      "evaluate.data_provider = @data.TFRecordProvider()\n",
      "evaluate.evaluator_classes = %evaluators\n",
      "evaluate.num_batches = 5\n",
      "\n",
      "# Parameters for F0LoudnessPreprocessor:\n",
      "# ==============================================================================\n",
      "F0LoudnessPreprocessor.time_steps = 1000\n",
      "\n",
      "# Parameters for FilteredNoise:\n",
      "# ==============================================================================\n",
      "FilteredNoise.n_samples = 64000\n",
      "FilteredNoise.name = 'filtered_noise'\n",
      "FilteredNoise.scale_fn = @core.exp_sigmoid\n",
      "FilteredNoise.window_size = 0\n",
      "\n",
      "# Parameters for get_model:\n",
      "# ==============================================================================\n",
      "get_model.model = @models.Autoencoder()\n",
      "\n",
      "# Parameters for Harmonic:\n",
      "# ==============================================================================\n",
      "Harmonic.n_samples = 64000\n",
      "Harmonic.name = 'harmonic'\n",
      "Harmonic.normalize_below_nyquist = True\n",
      "Harmonic.sample_rate = 16000\n",
      "Harmonic.scale_fn = @core.exp_sigmoid\n",
      "\n",
      "# Parameters for MfccTimeDistributedRnnEncoder:\n",
      "# ==============================================================================\n",
      "MfccTimeDistributedRnnEncoder.rnn_channels = 512\n",
      "MfccTimeDistributedRnnEncoder.rnn_type = 'gru'\n",
      "MfccTimeDistributedRnnEncoder.z_dims = 16\n",
      "MfccTimeDistributedRnnEncoder.z_time_steps = 125\n",
      "\n",
      "# Parameters for ProcessorGroup:\n",
      "# ==============================================================================\n",
      "ProcessorGroup.dag = \\\n",
      "    [(@synths.Harmonic(), ['amps', 'harmonic_distribution', 'f0_hz']),\n",
      "     (@synths.FilteredNoise(), ['noise_magnitudes']),\n",
      "     (@processors.Add(), ['filtered_noise/signal', 'harmonic/signal']),\n",
      "     (@effects.Reverb(), ['add/signal'])]\n",
      "\n",
      "# Parameters for Reverb:\n",
      "# ==============================================================================\n",
      "Reverb.name = 'reverb'\n",
      "Reverb.reverb_length = 48000\n",
      "Reverb.trainable = True\n",
      "\n",
      "# Parameters for RnnFcDecoder:\n",
      "# ==============================================================================\n",
      "RnnFcDecoder.ch = 512\n",
      "RnnFcDecoder.input_keys = ('ld_scaled', 'f0_scaled')\n",
      "RnnFcDecoder.layers_per_stack = 3\n",
      "RnnFcDecoder.output_splits = \\\n",
      "    (('amps', 1), ('harmonic_distribution', 60), ('noise_magnitudes', 65))\n",
      "RnnFcDecoder.rnn_channels = 512\n",
      "RnnFcDecoder.rnn_type = 'gru'\n",
      "\n",
      "# Parameters for sample:\n",
      "# ==============================================================================\n",
      "sample.batch_size = 16\n",
      "sample.ckpt_delay_secs = 300\n",
      "sample.data_provider = @data.TFRecordProvider()\n",
      "sample.evaluator_classes = %evaluators\n",
      "sample.num_batches = 1\n",
      "\n",
      "# Parameters for SpectralLoss:\n",
      "# ==============================================================================\n",
      "SpectralLoss.logmag_weight = 1.0\n",
      "SpectralLoss.loss_type = 'L1'\n",
      "SpectralLoss.mag_weight = 1.0\n",
      "\n",
      "# Parameters for TFRecordProvider:\n",
      "# ==============================================================================\n",
      "TFRecordProvider.file_pattern = 'data/train.tfrecord*'\n",
      "\n",
      "# Parameters for train:\n",
      "# ==============================================================================\n",
      "train.batch_size = %batch_size\n",
      "train.data_provider = @data.TFRecordProvider()\n",
      "train.num_steps = 30000\n",
      "train.steps_per_save = 300\n",
      "train.steps_per_summary = 300\n",
      "\n",
      "# Parameters for Trainer:\n",
      "# ==============================================================================\n",
      "Trainer.checkpoints_to_keep = 10\n",
      "Trainer.grad_clip_norm = 3.0\n",
      "Trainer.learning_rate = %learning_rate\n",
      "Trainer.lr_decay_rate = 0.98\n",
      "Trainer.lr_decay_steps = 10000\n",
      "\n"
     ]
    },
    {
     "name": "stdout",
     "output_type": "stream",
     "text": [
      "trying allow_memory_growth()\n",
      "PhysicalDevice(name='/physical_device:GPU:0', device_type='GPU')\n",
      "I1206 01:20:39.923719 140539249887040 train_util.py:78] Defaulting to MirroredStrategy\n",
      "2022-12-06 01:20:39.924204: I tensorflow/core/platform/cpu_feature_guard.cc:193] This TensorFlow binary is optimized with oneAPI Deep Neural Network Library (oneDNN) to use the following CPU instructions in performance-critical operations:  AVX2 FMA\n",
      "To enable them in other operations, rebuild TensorFlow with the appropriate compiler flags.\n",
      "2022-12-06 01:20:39.924799: I tensorflow/compiler/xla/stream_executor/cuda/cuda_gpu_executor.cc:981] successful NUMA node read from SysFS had negative value (-1), but there must be at least one NUMA node, so returning NUMA node zero\n",
      "2022-12-06 01:20:39.925542: I tensorflow/compiler/xla/stream_executor/cuda/cuda_gpu_executor.cc:981] successful NUMA node read from SysFS had negative value (-1), but there must be at least one NUMA node, so returning NUMA node zero\n",
      "2022-12-06 01:20:39.926128: I tensorflow/compiler/xla/stream_executor/cuda/cuda_gpu_executor.cc:981] successful NUMA node read from SysFS had negative value (-1), but there must be at least one NUMA node, so returning NUMA node zero\n",
      "2022-12-06 01:20:40.397801: I tensorflow/compiler/xla/stream_executor/cuda/cuda_gpu_executor.cc:981] successful NUMA node read from SysFS had negative value (-1), but there must be at least one NUMA node, so returning NUMA node zero\n",
      "2022-12-06 01:20:40.398634: I tensorflow/compiler/xla/stream_executor/cuda/cuda_gpu_executor.cc:981] successful NUMA node read from SysFS had negative value (-1), but there must be at least one NUMA node, so returning NUMA node zero\n",
      "2022-12-06 01:20:40.399241: I tensorflow/compiler/xla/stream_executor/cuda/cuda_gpu_executor.cc:981] successful NUMA node read from SysFS had negative value (-1), but there must be at least one NUMA node, so returning NUMA node zero\n",
      "2022-12-06 01:20:40.399807: I tensorflow/core/common_runtime/gpu/gpu_device.cc:1613] Created device /job:localhost/replica:0/task:0/device:GPU:0 with 880 MB memory:  -> device: 0, name: NVIDIA A10G, pci bus id: 0000:00:1e.0, compute capability: 8.6\n",
      "INFO:tensorflow:Using MirroredStrategy with devices ('/job:localhost/replica:0/task:0/device:GPU:0',)\n",
      "I1206 01:20:40.418410 140539249887040 mirrored_strategy.py:374] Using MirroredStrategy with devices ('/job:localhost/replica:0/task:0/device:GPU:0',)\n",
      "I1206 01:20:40.672017 140539249887040 trainers.py:142] Building the model...\n",
      "WARNING:tensorflow:From /home/ubuntu/.local/lib/python3.8/site-packages/tensorflow/python/autograph/pyct/static_analysis/liveness.py:83: Analyzer.lamba_check (from tensorflow.python.autograph.pyct.static_analysis.liveness) is deprecated and will be removed after 2023-09-23.\n",
      "Instructions for updating:\n",
      "Lambda fuctions will be no more assumed to be used in the statement where they are used, or at least in the same block. https://github.com/tensorflow/tensorflow/issues/56089\n",
      "W1206 01:20:41.562472 140529014126336 deprecation.py:350] From /home/ubuntu/.local/lib/python3.8/site-packages/tensorflow/python/autograph/pyct/static_analysis/liveness.py:83: Analyzer.lamba_check (from tensorflow.python.autograph.pyct.static_analysis.liveness) is deprecated and will be removed after 2023-09-23.\n",
      "Instructions for updating:\n",
      "Lambda fuctions will be no more assumed to be used in the statement where they are used, or at least in the same block. https://github.com/tensorflow/tensorflow/issues/56089\n",
      "2022-12-06 01:20:50.089241: E tensorflow/compiler/xla/stream_executor/cuda/cuda_blas.cc:219] failed to create cublas handle: cublas error\n",
      "2022-12-06 01:20:50.089291: E tensorflow/compiler/xla/stream_executor/cuda/cuda_blas.cc:221] Failure to initialize cublas may be due to OOM (cublas needs some free memory when you initialize it, and your deep-learning framework may have preallocated more than its fair share), or may be because this binary was not built with support for the GPU in your machine.\n",
      "2022-12-06 01:20:50.089315: W tensorflow/core/framework/op_kernel.cc:1830] OP_REQUIRES failed at matmul_op_impl.h:622 : INTERNAL: Attempting to perform BLAS operation using StreamExecutor without BLAS support\n",
      "2022-12-06 01:20:50.100414: E tensorflow/compiler/xla/stream_executor/cuda/cuda_fft.cc:247] Failed to make cuFFT batched plan: 5\n",
      "2022-12-06 01:20:50.100463: E tensorflow/compiler/xla/stream_executor/cuda/cuda_fft.cc:455] Initialize Params: rank: 1 elem_count: 131072 input_embed: 131072 input_stride: 1 input_distance: 131072 output_embed: 65537 output_stride: 1 output_distance: 65537 batch_count: 16\n",
      "2022-12-06 01:20:50.100469: E tensorflow/compiler/xla/stream_executor/cuda/cuda_fft.cc:464] Failed to initialize batched cufft plan with customized allocator: Failed to make cuFFT batched plan.\n",
      "2022-12-06 01:20:50.109873: E tensorflow/compiler/xla/stream_executor/cuda/cuda_fft.cc:247] Failed to make cuFFT batched plan: 5\n",
      "2022-12-06 01:20:50.109902: E tensorflow/compiler/xla/stream_executor/cuda/cuda_fft.cc:455] Initialize Params: rank: 1 elem_count: 256 input_embed: 256 input_stride: 1 input_distance: 256 output_embed: 129 output_stride: 1 output_distance: 129 batch_count: 16000\n",
      "2022-12-06 01:20:50.109916: E tensorflow/compiler/xla/stream_executor/cuda/cuda_fft.cc:464] Failed to initialize batched cufft plan with customized allocator: Failed to make cuFFT batched plan.\n",
      "2022-12-06 01:20:50.147431: E tensorflow/compiler/xla/stream_executor/cuda/cuda_blas.cc:219] failed to create cublas handle: cublas error\n",
      "2022-12-06 01:20:50.147466: E tensorflow/compiler/xla/stream_executor/cuda/cuda_blas.cc:221] Failure to initialize cublas may be due to OOM (cublas needs some free memory when you initialize it, and your deep-learning framework may have preallocated more than its fair share), or may be because this binary was not built with support for the GPU in your machine.\n",
      "2022-12-06 01:20:50.147483: W tensorflow/core/framework/op_kernel.cc:1830] OP_REQUIRES failed at matmul_op_impl.h:622 : INTERNAL: Attempting to perform BLAS operation using StreamExecutor without BLAS support\n",
      "Traceback (most recent call last):\n",
      "  File \"/home/ubuntu/.local/bin/ddsp_run\", line 8, in <module>\n",
      "    sys.exit(console_entry_point())\n",
      "  File \"/home/ubuntu/.local/lib/python3.8/site-packages/ddsp/training/ddsp_run.py\", line 231, in console_entry_point\n",
      "    app.run(main)\n",
      "  File \"/home/ubuntu/.local/lib/python3.8/site-packages/absl/app.py\", line 308, in run\n",
      "    _run_main(main, args)\n",
      "  File \"/home/ubuntu/.local/lib/python3.8/site-packages/absl/app.py\", line 254, in _run_main\n",
      "    sys.exit(main(argv))\n",
      "  File \"/home/ubuntu/.local/lib/python3.8/site-packages/ddsp/training/ddsp_run.py\", line 201, in main\n",
      "    train_util.train(data_provider=gin.REQUIRED,\n",
      "  File \"/home/ubuntu/.local/lib/python3.8/site-packages/gin/config.py\", line 1605, in gin_wrapper\n",
      "    utils.augment_exception_message_and_reraise(e, err_str)\n",
      "  File \"/home/ubuntu/.local/lib/python3.8/site-packages/gin/utils.py\", line 41, in augment_exception_message_and_reraise\n",
      "    raise proxy.with_traceback(exception.__traceback__) from None\n",
      "  File \"/home/ubuntu/.local/lib/python3.8/site-packages/gin/config.py\", line 1582, in gin_wrapper\n",
      "    return fn(*new_args, **new_kwargs)\n",
      "  File \"/home/ubuntu/.local/lib/python3.8/site-packages/ddsp/training/train_util.py\", line 261, in train\n",
      "    trainer.build(next(dataset_iter))\n",
      "  File \"/home/ubuntu/.local/lib/python3.8/site-packages/ddsp/training/trainers.py\", line 143, in build\n",
      "    _ = self.run(tf.function(self.model.__call__), batch)\n",
      "  File \"/home/ubuntu/.local/lib/python3.8/site-packages/ddsp/training/trainers.py\", line 138, in run\n",
      "    return self.strategy.run(fn, args=args, kwargs=kwargs)\n",
      "  File \"/home/ubuntu/.local/lib/python3.8/site-packages/tensorflow/python/distribute/distribute_lib.py\", line 1316, in run\n",
      "    return self._extended.call_for_each_replica(fn, args=args, kwargs=kwargs)\n",
      "  File \"/home/ubuntu/.local/lib/python3.8/site-packages/tensorflow/python/distribute/distribute_lib.py\", line 2895, in call_for_each_replica\n",
      "    return self._call_for_each_replica(fn, args, kwargs)\n",
      "  File \"/home/ubuntu/.local/lib/python3.8/site-packages/tensorflow/python/distribute/mirrored_strategy.py\", line 696, in _call_for_each_replica\n",
      "    return mirrored_run.call_for_each_replica(\n",
      "  File \"/home/ubuntu/.local/lib/python3.8/site-packages/tensorflow/python/distribute/mirrored_run.py\", line 83, in call_for_each_replica\n",
      "    return wrapped(args, kwargs)\n",
      "  File \"/home/ubuntu/.local/lib/python3.8/site-packages/tensorflow/python/util/traceback_utils.py\", line 153, in error_handler\n",
      "    raise e.with_traceback(filtered_tb) from None\n",
      "  File \"/home/ubuntu/.local/lib/python3.8/site-packages/tensorflow/python/eager/execute.py\", line 52, in quick_execute\n",
      "    tensors = pywrap_tfe.TFE_Py_Execute(ctx._handle, device_name, op_name,\n",
      "tensorflow.python.framework.errors_impl.InternalError: Graph execution error:\n",
      "\n",
      "Detected at node 'autoencoder/rnn_fc_decoder/fc_stack/fc/dense_1/Tensordot/MatMul' defined at (most recent call last):\n",
      "    File \"/usr/lib/python3.8/threading.py\", line 890, in _bootstrap\n",
      "      self._bootstrap_inner()\n",
      "    File \"/usr/lib/python3.8/threading.py\", line 932, in _bootstrap_inner\n",
      "      self.run()\n",
      "    File \"/home/ubuntu/.local/lib/python3.8/site-packages/ddsp/training/models/model.py\", line 54, in __call__\n",
      "      outputs = super().__call__(*args, **kwargs)\n",
      "    File \"/home/ubuntu/.local/lib/python3.8/site-packages/keras/utils/traceback_utils.py\", line 65, in error_handler\n",
      "      return fn(*args, **kwargs)\n",
      "    File \"/home/ubuntu/.local/lib/python3.8/site-packages/keras/engine/training.py\", line 561, in __call__\n",
      "      return super().__call__(*args, **kwargs)\n",
      "    File \"/home/ubuntu/.local/lib/python3.8/site-packages/keras/utils/traceback_utils.py\", line 65, in error_handler\n",
      "      return fn(*args, **kwargs)\n",
      "    File \"/home/ubuntu/.local/lib/python3.8/site-packages/keras/engine/base_layer.py\", line 1132, in __call__\n",
      "      outputs = call_fn(inputs, *args, **kwargs)\n",
      "    File \"/home/ubuntu/.local/lib/python3.8/site-packages/keras/utils/traceback_utils.py\", line 96, in error_handler\n",
      "      return fn(*args, **kwargs)\n",
      "    File \"/home/ubuntu/.local/lib/python3.8/site-packages/ddsp/training/models/autoencoder.py\", line 59, in call\n",
      "      features.update(self.decoder(features, training=training))\n",
      "    File \"/home/ubuntu/.local/lib/python3.8/site-packages/ddsp/training/nn.py\", line 192, in __call__\n",
      "      outputs = super().__call__(*inputs, **kwargs)\n",
      "    File \"/home/ubuntu/.local/lib/python3.8/site-packages/keras/utils/traceback_utils.py\", line 65, in error_handler\n",
      "      return fn(*args, **kwargs)\n",
      "    File \"/home/ubuntu/.local/lib/python3.8/site-packages/keras/engine/base_layer.py\", line 1132, in __call__\n",
      "      outputs = call_fn(inputs, *args, **kwargs)\n",
      "    File \"/home/ubuntu/.local/lib/python3.8/site-packages/keras/utils/traceback_utils.py\", line 96, in error_handler\n",
      "      return fn(*args, **kwargs)\n",
      "    File \"/home/ubuntu/.local/lib/python3.8/site-packages/ddsp/training/nn.py\", line 270, in call\n",
      "      output = self.compute_output(*inputs)\n",
      "    File \"/home/ubuntu/.local/lib/python3.8/site-packages/ddsp/training/decoders.py\", line 50, in compute_output\n",
      "      inputs = [stack(x) for stack, x in zip(self.input_stacks, inputs)]\n",
      "    File \"/home/ubuntu/.local/lib/python3.8/site-packages/ddsp/training/decoders.py\", line 50, in compute_output\n",
      "      inputs = [stack(x) for stack, x in zip(self.input_stacks, inputs)]\n",
      "    File \"/home/ubuntu/.local/lib/python3.8/site-packages/keras/utils/traceback_utils.py\", line 65, in error_handler\n",
      "      return fn(*args, **kwargs)\n",
      "    File \"/home/ubuntu/.local/lib/python3.8/site-packages/keras/engine/training.py\", line 561, in __call__\n",
      "      return super().__call__(*args, **kwargs)\n",
      "    File \"/home/ubuntu/.local/lib/python3.8/site-packages/keras/utils/traceback_utils.py\", line 65, in error_handler\n",
      "      return fn(*args, **kwargs)\n",
      "    File \"/home/ubuntu/.local/lib/python3.8/site-packages/keras/engine/base_layer.py\", line 1132, in __call__\n",
      "      outputs = call_fn(inputs, *args, **kwargs)\n",
      "    File \"/home/ubuntu/.local/lib/python3.8/site-packages/keras/utils/traceback_utils.py\", line 96, in error_handler\n",
      "      return fn(*args, **kwargs)\n",
      "    File \"/home/ubuntu/.local/lib/python3.8/site-packages/keras/engine/sequential.py\", line 413, in call\n",
      "      return super().call(inputs, training=training, mask=mask)\n",
      "    File \"/home/ubuntu/.local/lib/python3.8/site-packages/keras/engine/functional.py\", line 511, in call\n",
      "      return self._run_internal_graph(inputs, training=training, mask=mask)\n",
      "    File \"/home/ubuntu/.local/lib/python3.8/site-packages/keras/engine/functional.py\", line 668, in _run_internal_graph\n",
      "      outputs = node.layer(*args, **kwargs)\n",
      "    File \"/home/ubuntu/.local/lib/python3.8/site-packages/keras/utils/traceback_utils.py\", line 65, in error_handler\n",
      "      return fn(*args, **kwargs)\n",
      "    File \"/home/ubuntu/.local/lib/python3.8/site-packages/keras/engine/training.py\", line 561, in __call__\n",
      "      return super().__call__(*args, **kwargs)\n",
      "    File \"/home/ubuntu/.local/lib/python3.8/site-packages/keras/utils/traceback_utils.py\", line 65, in error_handler\n",
      "      return fn(*args, **kwargs)\n",
      "    File \"/home/ubuntu/.local/lib/python3.8/site-packages/keras/engine/base_layer.py\", line 1132, in __call__\n",
      "      outputs = call_fn(inputs, *args, **kwargs)\n",
      "    File \"/home/ubuntu/.local/lib/python3.8/site-packages/keras/utils/traceback_utils.py\", line 96, in error_handler\n",
      "      return fn(*args, **kwargs)\n",
      "    File \"/home/ubuntu/.local/lib/python3.8/site-packages/keras/engine/sequential.py\", line 413, in call\n",
      "      return super().call(inputs, training=training, mask=mask)\n",
      "    File \"/home/ubuntu/.local/lib/python3.8/site-packages/keras/engine/functional.py\", line 511, in call\n",
      "      return self._run_internal_graph(inputs, training=training, mask=mask)\n",
      "    File \"/home/ubuntu/.local/lib/python3.8/site-packages/keras/engine/functional.py\", line 668, in _run_internal_graph\n",
      "      outputs = node.layer(*args, **kwargs)\n",
      "    File \"/home/ubuntu/.local/lib/python3.8/site-packages/keras/utils/traceback_utils.py\", line 65, in error_handler\n",
      "      return fn(*args, **kwargs)\n",
      "    File \"/home/ubuntu/.local/lib/python3.8/site-packages/keras/engine/base_layer.py\", line 1132, in __call__\n",
      "      outputs = call_fn(inputs, *args, **kwargs)\n",
      "    File \"/home/ubuntu/.local/lib/python3.8/site-packages/keras/utils/traceback_utils.py\", line 96, in error_handler\n",
      "      return fn(*args, **kwargs)\n",
      "    File \"/home/ubuntu/.local/lib/python3.8/site-packages/keras/layers/core/dense.py\", line 244, in call\n",
      "      outputs = tf.tensordot(inputs, self.kernel, [[rank - 1], [0]])\n",
      "Node: 'autoencoder/rnn_fc_decoder/fc_stack/fc/dense_1/Tensordot/MatMul'\n",
      "Attempting to perform BLAS operation using StreamExecutor without BLAS support\n",
      "\t [[{{node autoencoder/rnn_fc_decoder/fc_stack/fc/dense_1/Tensordot/MatMul}}]] [Op:__inference___call___8084]\n",
      "  In call to configurable 'train' (<function train at 0x7fd15376d700>)\n"
     ]
    }
   ],
   "source": [
    "!ddsp_run \\\n",
    "  --mode=train \\\n",
    "  --alsologtostderr \\\n",
    "  --save_dir=\"$SAVE_DIR\" \\\n",
    "  --allow_memory_growth=True \\\n",
    "  --gin_file=models/solo_instrument.gin \\\n",
    "  --gin_file=datasets/tfrecord.gin \\\n",
    "  --gin_param=\"TFRecordProvider.file_pattern='data/train.tfrecord*'\" \\\n",
    "  --gin_param=\"batch_size=16\" \\\n",
    "  --gin_param=\"train_util.train.num_steps=30000\" \\\n",
    "  --gin_param=\"train_util.train.steps_per_save=300\" \\\n",
    "  --gin_param=\"trainers.Trainer.checkpoints_to_keep=10\""
   ]
  },
  {
   "cell_type": "markdown",
   "metadata": {
    "id": "V95qxVjFzWR6"
   },
   "source": [
    "## Resynthesis\n",
    "\n",
    "Check how well the model reconstructs the training data"
   ]
  },
  {
   "cell_type": "code",
   "execution_count": 9,
   "metadata": {
    "id": "OQ5PPDZVzgFR"
   },
   "outputs": [
    {
     "ename": "ModuleNotFoundError",
     "evalue": "No module named 'google.colab'",
     "output_type": "error",
     "traceback": [
      "\u001b[0;31m---------------------------------------------------------------------------\u001b[0m",
      "\u001b[0;31mModuleNotFoundError\u001b[0m                       Traceback (most recent call last)",
      "Cell \u001b[0;32mIn [9], line 1\u001b[0m\n\u001b[0;32m----> 1\u001b[0m \u001b[38;5;28;01mfrom\u001b[39;00m \u001b[38;5;21;01mddsp\u001b[39;00m\u001b[38;5;21;01m.\u001b[39;00m\u001b[38;5;21;01mcolab\u001b[39;00m\u001b[38;5;21;01m.\u001b[39;00m\u001b[38;5;21;01mcolab_utils\u001b[39;00m \u001b[38;5;28;01mimport\u001b[39;00m play, specplot\n\u001b[1;32m      2\u001b[0m \u001b[38;5;28;01mimport\u001b[39;00m \u001b[38;5;21;01mddsp\u001b[39;00m\u001b[38;5;21;01m.\u001b[39;00m\u001b[38;5;21;01mtraining\u001b[39;00m\n\u001b[1;32m      3\u001b[0m \u001b[38;5;28;01mimport\u001b[39;00m \u001b[38;5;21;01mgin\u001b[39;00m\n",
      "File \u001b[0;32m~/.local/lib/python3.8/site-packages/ddsp/colab/colab_utils.py:24\u001b[0m\n\u001b[1;32m     22\u001b[0m \u001b[38;5;28;01mimport\u001b[39;00m \u001b[38;5;21;01mddsp\u001b[39;00m\n\u001b[1;32m     23\u001b[0m \u001b[38;5;28;01mimport\u001b[39;00m \u001b[38;5;21;01mddsp\u001b[39;00m\u001b[38;5;21;01m.\u001b[39;00m\u001b[38;5;21;01mtraining\u001b[39;00m\n\u001b[0;32m---> 24\u001b[0m \u001b[38;5;28;01mfrom\u001b[39;00m \u001b[38;5;21;01mgoogle\u001b[39;00m\u001b[38;5;21;01m.\u001b[39;00m\u001b[38;5;21;01mcolab\u001b[39;00m \u001b[38;5;28;01mimport\u001b[39;00m files\n\u001b[1;32m     25\u001b[0m \u001b[38;5;28;01mfrom\u001b[39;00m \u001b[38;5;21;01mgoogle\u001b[39;00m\u001b[38;5;21;01m.\u001b[39;00m\u001b[38;5;21;01mcolab\u001b[39;00m \u001b[38;5;28;01mimport\u001b[39;00m output\n\u001b[1;32m     26\u001b[0m \u001b[38;5;28;01mfrom\u001b[39;00m \u001b[38;5;21;01mIPython\u001b[39;00m \u001b[38;5;28;01mimport\u001b[39;00m display\n",
      "\u001b[0;31mModuleNotFoundError\u001b[0m: No module named 'google.colab'"
     ]
    }
   ],
   "source": [
    "from ddsp.colab.colab_utils import play, specplot\n",
    "import ddsp.training\n",
    "import gin\n",
    "from matplotlib import pyplot as plt\n",
    "import numpy as np\n",
    "\n",
    "data_provider = ddsp.training.data.TFRecordProvider(TRAIN_TFRECORD_FILEPATTERN)\n",
    "dataset = data_provider.get_batch(batch_size=1, shuffle=False)\n",
    "\n",
    "try:\n",
    "  batch = next(iter(dataset))\n",
    "except OutOfRangeError:\n",
    "  raise ValueError(\n",
    "      'TFRecord contains no examples. Please try re-running the pipeline with '\n",
    "      'different audio file(s).')\n",
    "\n",
    "# Parse the gin config.\n",
    "gin_file = os.path.join(SAVE_DIR, 'operative_config-0.gin')\n",
    "gin.parse_config_file(gin_file)\n",
    "\n",
    "# Load model\n",
    "model = ddsp.training.models.Autoencoder()\n",
    "model.restore(SAVE_DIR)\n",
    "\n",
    "# Resynthesize audio.\n",
    "outputs = model(batch, training=False)\n",
    "audio_gen = model.get_audio_from_outputs(outputs)\n",
    "audio = batch['audio']\n",
    "\n",
    "print('Original Audio')\n",
    "specplot(audio)\n",
    "play(audio)\n",
    "\n",
    "print('Resynthesis')\n",
    "specplot(audio_gen)\n",
    "play(audio_gen)"
   ]
  },
  {
   "cell_type": "markdown",
   "metadata": {
    "id": "ZXM2ynLQ2Wl3"
   },
   "source": [
    "## Download Checkpoint\n",
    "\n",
    "Below you can download the final checkpoint. You are now ready to use it in the [DDSP Timbre Tranfer Colab](https://colab.research.google.com/github/magenta/ddsp/blob/main/ddsp/colab/demos/timbre_transfer.ipynb)."
   ]
  },
  {
   "cell_type": "code",
   "execution_count": null,
   "metadata": {
    "id": "2WDiCyXP0tNE"
   },
   "outputs": [],
   "source": [
    "from ddsp.colab import colab_utils\n",
    "import tensorflow as tf\n",
    "import os\n",
    "\n",
    "CHECKPOINT_ZIP = 'my_solo_instrument.zip'\n",
    "latest_checkpoint_fname = os.path.basename(tf.train.latest_checkpoint(SAVE_DIR))\n",
    "!cd \"$SAVE_DIR\" && zip $CHECKPOINT_ZIP $latest_checkpoint_fname* operative_config-0.gin dataset_statistics.pkl\n",
    "!cp \"$SAVE_DIR/$CHECKPOINT_ZIP\" ./\n",
    "colab_utils.download(CHECKPOINT_ZIP)"
   ]
  }
 ],
 "metadata": {
  "accelerator": "GPU",
  "colab": {
   "collapsed_sections": [
    "hMqWDc_m6rUC"
   ],
   "name": "train_autoencoder.ipynb",
   "provenance": [],
   "toc_visible": true
  },
  "kernelspec": {
   "display_name": "Python 3 (ipykernel)",
   "language": "python",
   "name": "python3"
  },
  "language_info": {
   "codemirror_mode": {
    "name": "ipython",
    "version": 3
   },
   "file_extension": ".py",
   "mimetype": "text/x-python",
   "name": "python",
   "nbconvert_exporter": "python",
   "pygments_lexer": "ipython3",
   "version": "3.8.10"
  }
 },
 "nbformat": 4,
 "nbformat_minor": 1
}
